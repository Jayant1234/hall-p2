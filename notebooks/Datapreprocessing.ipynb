{
 "cells": [
  {
   "cell_type": "code",
   "execution_count": 19,
   "metadata": {},
   "outputs": [],
   "source": [
    "import cv2\n",
    "import os\n",
    "In [2]: import matplotlib.pyplot as plt\n",
    "In [3]: import matplotlib.image as mpimg"
   ]
  },
  {
   "cell_type": "code",
   "execution_count": 20,
   "metadata": {},
   "outputs": [
    {
     "name": "stdout",
     "output_type": "stream",
     "text": [
      "4.0.0\n"
     ]
    }
   ],
   "source": [
    "print(cv2.__version__)"
   ]
  },
  {
   "cell_type": "code",
   "execution_count": 21,
   "metadata": {},
   "outputs": [
    {
     "name": "stdout",
     "output_type": "stream",
     "text": [
      "<class 'numpy.ndarray'>\n",
      "(1632, 1500, 3)\n"
     ]
    }
   ],
   "source": [
    "img = cv2.imread(\"C:\\\\Users\\\\Jayant\\\\Pictures\\\\wallpapers\\\\page.jpg\")\n",
    "print(type(img))\n",
    "print(img.shape)"
   ]
  },
  {
   "cell_type": "code",
   "execution_count": 22,
   "metadata": {},
   "outputs": [
    {
     "data": {
      "text/plain": [
       "-1"
      ]
     },
     "execution_count": 22,
     "metadata": {},
     "output_type": "execute_result"
    }
   ],
   "source": [
    "#resizing an image\n",
    "resized= cv2.resize(img, (int(img.shape[1]/2),int(img.shape[0]/2)))\n",
    "cv2.imshow(\"Larry Page\", resized)\n",
    "cv2.waitKey(0)"
   ]
  },
  {
   "cell_type": "code",
   "execution_count": 26,
   "metadata": {},
   "outputs": [
    {
     "name": "stdout",
     "output_type": "stream",
     "text": [
      "211\n"
     ]
    }
   ],
   "source": [
    "f = open(\"../dataset/train.txt\", \"r\")\n",
    "train_names=f.read().splitlines()\n",
    "print(len(train_names))"
   ]
  },
  {
   "cell_type": "code",
   "execution_count": 38,
   "metadata": {},
   "outputs": [
    {
     "name": "stdout",
     "output_type": "stream",
     "text": [
      "Length of total dataset, should be 21100 :21100\n"
     ]
    }
   ],
   "source": [
    "def data_video_dictionary(train_names): \n",
    "    \"\"\"\n",
    "    creates a dictionary of dictionary with following structure\n",
    "    dict_videos --> key = train filename , value = dict_image --> key = frame no. of images, value = image of celia\n",
    "    ie first dictonary size is 211 and every dictionary inside 211 dictionaries have size 100. \n",
    "    And dictionaries with size 100 contain the images by frames. \n",
    "    \"\"\"\n",
    "    length=0 # to check the length of total dataset\n",
    "    dict_videos= {}\n",
    "    for name in train_names: \n",
    "        dict_images={}    \n",
    "        for i in range(len(os.listdir(\"../dataset/data/\"+name))): \n",
    "            dict_images[i]= cv2.imread(\"../dataset/data/\"+name+\"/frame00\"+\"{:02d}\".format(i))\n",
    "            #print(i)        \n",
    "        length=length+len(dict_images)\n",
    "        dict_videos[name]=dict_images\n",
    "    #what I am doing here is error checking, can do this professionally also..do it after experiments..\n",
    "    print(\"Length of total dataset, should be 21100 :\"+ str(length))    \n",
    "    return dict_videos\n",
    "\n",
    "dict_videos =data_video_dictionary(train_names)"
   ]
  },
  {
   "cell_type": "code",
   "execution_count": 37,
   "metadata": {},
   "outputs": [
    {
     "data": {
      "text/plain": [
       "100"
      ]
     },
     "execution_count": 37,
     "metadata": {},
     "output_type": "execute_result"
    }
   ],
   "source": [
    "len(dict_videos)\n",
    "len(dict_videos[train_names[0]])"
   ]
  },
  {
   "cell_type": "code",
   "execution_count": 39,
   "metadata": {},
   "outputs": [],
   "source": [
    "def operation_on_dict_videos(dict_videos,train_names): \n",
    "    result={}\n",
    "    for names in train_names:\n",
    "        video= dict_videos[names]\n",
    "        #result action. \n",
    "    \n",
    "    return result\n",
    "\n",
    "def operation_on_image(dict_image, image_name=\"frame00\"): \n",
    "    result={}\n",
    "    for i in range(len(dict_image)): \n",
    "        image_name=image_name+\"{:02d}\".format(i)\n",
    "        image=dict_image[image_name]\n",
    "        #result action.\n",
    "    return result"
   ]
  }
 ],
 "metadata": {
  "kernelspec": {
   "display_name": "Python 3",
   "language": "python",
   "name": "python3"
  },
  "language_info": {
   "codemirror_mode": {
    "name": "ipython",
    "version": 3
   },
   "file_extension": ".py",
   "mimetype": "text/x-python",
   "name": "python",
   "nbconvert_exporter": "python",
   "pygments_lexer": "ipython3",
   "version": "3.6.5"
  }
 },
 "nbformat": 4,
 "nbformat_minor": 2
}
